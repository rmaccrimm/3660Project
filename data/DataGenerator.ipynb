{
 "cells": [
  {
   "cell_type": "code",
   "execution_count": 2,
   "metadata": {},
   "outputs": [
    {
     "name": "stdout",
     "output_type": "stream",
     "text": [
      "done\n"
     ]
    }
   ],
   "source": [
    "import random\n",
    "import string\n",
    "\n",
    "# selects only first word on every line\n",
    "\n",
    "#read = open('dist-all-last.txt', 'r')\n",
    "\n",
    "#write = open('last-cleaned.txt','w')\n",
    "\n",
    "#for line in read:\n",
    "#    write.write(line.split(None, 1)[0] + '\\n')\n",
    "\n",
    "\n",
    "# returns random line from any passed file\n",
    "def randomSelect(file):\n",
    "    f = open(file,'r')\n",
    "    choice = random.choice(list(f))\n",
    "    f.close()\n",
    "    return choice[:len(choice) - 1]\n",
    "\n",
    "# returns a random zip\n",
    "def randomZip():\n",
    "    code = \"\"\n",
    "    for i in range(0,3):\n",
    "        code += random.choice(string.ascii_uppercase) + str(random.randrange(0, 10))\n",
    "    return code[:3] + ' ' + code[3:]\n",
    "        \n",
    "    return code\n",
    "\n",
    "#returns a random street address\n",
    "def randomAddress(file):\n",
    "    f = open(file,'r')\n",
    "    street = random.choice(list(f))\n",
    "    f.close()\n",
    "    street = street[:len(street) - 1] + ' '\n",
    "    return str(random.randrange(1,1000)) + ' ' + street + random.choice([\"Road\", \"Way\", \"Street\", \"Boulevard\", \"Avenue\", \"Drive\"])\n",
    "\n",
    "#returns a random DOB\n",
    "def randomDOB():\n",
    "    return str(random.randrange(1930, 2000)) + '-' + str(random.randrange(1, 13)) + '-' + str(random.randrange(1, 30))\n",
    "\n",
    "#start of program\n",
    "data = open('customerData.txt', 'w')\n",
    "\n",
    "tab = \"    \"\n",
    "for i in range(2000):\n",
    "    data.write( str(i) + tab + randomSelect('last-cleaned.txt') + tab + randomSelect('first-cleaned.txt')  + tab + \\\n",
    "    randomAddress('allstreets.txt') + tab + randomSelect('city_names.txt') + tab + randomSelect('states.txt') + tab + \\\n",
    "    randomZip() + tab + str(random.randrange(100000000,1000000000)) + tab + randomDOB() + tab + \\\n",
    "    str(random.randrange(100000000,1000000000)) + tab + str(random.randrange(0, 10)) + tab + str(random.randrange(0, 20)) + '\\n')\n",
    "    \n",
    "data.close()\n",
    "print \"done\""
   ]
  },
  {
   "cell_type": "code",
   "execution_count": null,
   "metadata": {
    "collapsed": true
   },
   "outputs": [],
   "source": [
    ""
   ]
  },
  {
   "cell_type": "code",
   "execution_count": null,
   "metadata": {
    "collapsed": true
   },
   "outputs": [],
   "source": [
    ""
   ]
  }
 ],
 "metadata": {
  "kernelspec": {
   "display_name": "Python 2",
   "language": "python",
   "name": "python2"
  },
  "language_info": {
   "codemirror_mode": {
    "name": "ipython",
    "version": 2.0
   },
   "file_extension": ".py",
   "mimetype": "text/x-python",
   "name": "python",
   "nbconvert_exporter": "python",
   "pygments_lexer": "ipython2",
   "version": "2.7.14"
  }
 },
 "nbformat": 4,
 "nbformat_minor": 0
}